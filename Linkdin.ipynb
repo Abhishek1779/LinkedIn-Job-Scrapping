{
 "cells": [
  {
   "cell_type": "code",
   "execution_count": 1,
   "metadata": {},
   "outputs": [],
   "source": [
    "import pandas as pd\n",
    "import re\n",
    "from selenium import webdriver\n",
    "from selenium.webdriver.common.keys import Keys\n",
    "from selenium.webdriver.chrome.service import Service\n",
    "from webdriver_manager.chrome import ChromeDriverManager"
   ]
  },
  {
   "cell_type": "code",
   "execution_count": 2,
   "metadata": {},
   "outputs": [
    {
     "name": "stderr",
     "output_type": "stream",
     "text": [
      "\n",
      "\n",
      "====== WebDriver manager ======\n",
      "Current google-chrome version is 106.0.5249\n",
      "Get LATEST chromedriver version for 106.0.5249 google-chrome\n",
      "There is no [win32] chromedriver for browser  in cache\n",
      "Trying to download new driver from https://chromedriver.storage.googleapis.com/106.0.5249.61/chromedriver_win32.zip\n",
      "Driver has been saved in cache [C:\\Users\\lenovo\\.wdm\\drivers\\chromedriver\\win32\\106.0.5249.61]\n"
     ]
    }
   ],
   "source": [
    "s = Service(ChromeDriverManager().install())\n",
    "browser = webdriver.Chrome(service=s)\n",
    "browser.maximize_window()\n",
    "browser.get('https://www.linkedin.com')"
   ]
  },
  {
   "cell_type": "code",
   "execution_count": null,
   "metadata": {},
   "outputs": [],
   "source": [
    "userID = input(\"Enter Email ID\")\n",
    "pas = input(\"Enter Password\")"
   ]
  },
  {
   "cell_type": "code",
   "execution_count": 4,
   "metadata": {},
   "outputs": [
    {
     "name": "stderr",
     "output_type": "stream",
     "text": [
      "<ipython-input-4-bb6deed6f56f>:1: DeprecationWarning: find_element_by_* commands are deprecated. Please use find_element() instead\n",
      "  username = browser.find_element_by_id(\"session_key\")\n",
      "<ipython-input-4-bb6deed6f56f>:3: DeprecationWarning: find_element_by_* commands are deprecated. Please use find_element() instead\n",
      "  password = browser.find_element_by_id(\"session_password\")\n"
     ]
    }
   ],
   "source": [
    "username = browser.find_element_by_id(\"session_key\")\n",
    "username.send_keys(userID)\n",
    "password = browser.find_element_by_id(\"session_password\")\n",
    "password.send_keys(pas)"
   ]
  },
  {
   "cell_type": "code",
   "execution_count": 5,
   "metadata": {},
   "outputs": [
    {
     "name": "stderr",
     "output_type": "stream",
     "text": [
      "<ipython-input-5-0ec88bc97886>:1: DeprecationWarning: find_element_by_* commands are deprecated. Please use find_element() instead\n",
      "  login_button = username = browser.find_element_by_class_name(\"sign-in-form__submit-button\")\n"
     ]
    }
   ],
   "source": [
    "login_button = username = browser.find_element_by_class_name(\"sign-in-form__submit-button\")\n",
    "login_button.click()"
   ]
  },
  {
   "cell_type": "code",
   "execution_count": 6,
   "metadata": {},
   "outputs": [],
   "source": [
    "browser.get('https://www.linkedin.com/jobs/')"
   ]
  },
  {
   "cell_type": "code",
   "execution_count": 7,
   "metadata": {},
   "outputs": [
    {
     "name": "stdout",
     "output_type": "stream",
     "text": [
      "['Online work opportunity for all', 'Online Earning Platform', 'Online work']\n",
      "\n",
      "3\n"
     ]
    },
    {
     "name": "stderr",
     "output_type": "stream",
     "text": [
      "<ipython-input-7-0c72426b5ab3>:1: DeprecationWarning: find_elements_by_* commands are deprecated. Please use find_elements() instead\n",
      "  job_title_extract = browser.find_elements_by_class_name(\"job-card-list__title\")\n"
     ]
    }
   ],
   "source": [
    "job_title_extract = browser.find_elements_by_class_name(\"job-card-list__title\")\n",
    "job_title = []\n",
    "for i in job_title_extract:\n",
    "    job_title.append(i.text)\n",
    "print(job_title)\n",
    "print()\n",
    "print(len(job_title))"
   ]
  },
  {
   "cell_type": "code",
   "execution_count": 9,
   "metadata": {},
   "outputs": [
    {
     "name": "stdout",
     "output_type": "stream",
     "text": [
      "['Work From Home/ Fresher & Experience Jobs', 'CoinedOne', 'Online project works & co.', 'First Salary', 'MNC Company', 'Course Hero', 'Suvidha Foundation (Suvidha Mahila Mandal)', 'GC Trainings', 'Course-Hub']\n",
      "\n",
      "9\n"
     ]
    },
    {
     "name": "stderr",
     "output_type": "stream",
     "text": [
      "<ipython-input-9-7aef36b593fe>:1: DeprecationWarning: find_elements_by_* commands are deprecated. Please use find_elements() instead\n",
      "  company_name_extract = browser.find_elements_by_class_name(\"artdeco-entity-lockup__subtitle\")\n"
     ]
    }
   ],
   "source": [
    "company_name_extract = browser.find_elements_by_class_name(\"artdeco-entity-lockup__subtitle\")\n",
    "company_name = []\n",
    "for i in company_name_extract:\n",
    "    company_name.append(i.text)\n",
    "print(company_name)\n",
    "print()\n",
    "print(len(company_name))"
   ]
  },
  {
   "cell_type": "code",
   "execution_count": 10,
   "metadata": {},
   "outputs": [
    {
     "name": "stdout",
     "output_type": "stream",
     "text": [
      "['Mumbai, Maharashtra, India (Remote)', 'India (Remote)', 'Kalyan Dombivli, Maharashtra, India (Remote)', 'India (Remote)', 'Mumbai, Maharashtra, India (Hybrid)', 'Maharashtra, India (Remote)', 'Mumbai, Maharashtra, India (Remote)', 'India (Remote)', 'India (Remote)']\n",
      "\n",
      "9\n"
     ]
    },
    {
     "name": "stderr",
     "output_type": "stream",
     "text": [
      "<ipython-input-10-c179e156fbe7>:1: DeprecationWarning: find_elements_by_* commands are deprecated. Please use find_elements() instead\n",
      "  company_location_extract = browser.find_elements_by_class_name(\"job-card-container__metadata-item\")\n"
     ]
    }
   ],
   "source": [
    "company_location_extract = browser.find_elements_by_class_name(\"job-card-container__metadata-item\")\n",
    "company_location = []\n",
    "for i in company_location_extract:\n",
    "    company_location.append(i.text)\n",
    "print(company_location)\n",
    "print()\n",
    "print(len(company_location))"
   ]
  },
  {
   "cell_type": "code",
   "execution_count": 11,
   "metadata": {},
   "outputs": [],
   "source": [
    "column = [\"Company Name\",\"Job Title\",\"Location\"]\n",
    "df = pd.DataFrame({\"Company Name\" : company_name , \"Job Title\" : job_title , \"Company Location\" : company_location})"
   ]
  },
  {
   "cell_type": "code",
   "execution_count": 12,
   "metadata": {},
   "outputs": [
    {
     "data": {
      "text/html": [
       "<div>\n",
       "<style scoped>\n",
       "    .dataframe tbody tr th:only-of-type {\n",
       "        vertical-align: middle;\n",
       "    }\n",
       "\n",
       "    .dataframe tbody tr th {\n",
       "        vertical-align: top;\n",
       "    }\n",
       "\n",
       "    .dataframe thead th {\n",
       "        text-align: right;\n",
       "    }\n",
       "</style>\n",
       "<table border=\"1\" class=\"dataframe\">\n",
       "  <thead>\n",
       "    <tr style=\"text-align: right;\">\n",
       "      <th></th>\n",
       "      <th>Company Name</th>\n",
       "      <th>Job Title</th>\n",
       "      <th>Company Location</th>\n",
       "    </tr>\n",
       "  </thead>\n",
       "  <tbody>\n",
       "    <tr>\n",
       "      <th>0</th>\n",
       "      <td>Work From Home/ Fresher &amp; Experience Jobs</td>\n",
       "      <td>Fresher</td>\n",
       "      <td>Mumbai, Maharashtra, India (Remote)</td>\n",
       "    </tr>\n",
       "    <tr>\n",
       "      <th>1</th>\n",
       "      <td>CoinedOne</td>\n",
       "      <td>User Study Intern</td>\n",
       "      <td>India (Remote)</td>\n",
       "    </tr>\n",
       "    <tr>\n",
       "      <th>2</th>\n",
       "      <td>Online project works &amp; co.</td>\n",
       "      <td>Part time Work sitting at home for 18+ &amp; 12th ...</td>\n",
       "      <td>Kalyan Dombivli, Maharashtra, India (Remote)</td>\n",
       "    </tr>\n",
       "    <tr>\n",
       "      <th>3</th>\n",
       "      <td>First Salary</td>\n",
       "      <td>Software Engineer Intern</td>\n",
       "      <td>India (Remote)</td>\n",
       "    </tr>\n",
       "    <tr>\n",
       "      <th>4</th>\n",
       "      <td>MNC Company</td>\n",
       "      <td>Network Security Engineer</td>\n",
       "      <td>Mumbai, Maharashtra, India (Hybrid)</td>\n",
       "    </tr>\n",
       "  </tbody>\n",
       "</table>\n",
       "</div>"
      ],
      "text/plain": [
       "                                Company Name  \\\n",
       "0  Work From Home/ Fresher & Experience Jobs   \n",
       "1                                  CoinedOne   \n",
       "2                 Online project works & co.   \n",
       "3                               First Salary   \n",
       "4                                MNC Company   \n",
       "\n",
       "                                           Job Title  \\\n",
       "0                                            Fresher   \n",
       "1                                  User Study Intern   \n",
       "2  Part time Work sitting at home for 18+ & 12th ...   \n",
       "3                           Software Engineer Intern   \n",
       "4                          Network Security Engineer   \n",
       "\n",
       "                               Company Location  \n",
       "0           Mumbai, Maharashtra, India (Remote)  \n",
       "1                                India (Remote)  \n",
       "2  Kalyan Dombivli, Maharashtra, India (Remote)  \n",
       "3                                India (Remote)  \n",
       "4           Mumbai, Maharashtra, India (Hybrid)  "
      ]
     },
     "execution_count": 12,
     "metadata": {},
     "output_type": "execute_result"
    }
   ],
   "source": [
    "df.head()"
   ]
  },
  {
   "cell_type": "code",
   "execution_count": 22,
   "metadata": {},
   "outputs": [],
   "source": [
    "df.to_csv(\"linkedin_scrapejobs.csv\")"
   ]
  },
  {
   "cell_type": "code",
   "execution_count": null,
   "metadata": {},
   "outputs": [],
   "source": []
  }
 ],
 "metadata": {
  "kernelspec": {
   "display_name": "Python 3",
   "language": "python",
   "name": "python3"
  },
  "language_info": {
   "codemirror_mode": {
    "name": "ipython",
    "version": 3
   },
   "file_extension": ".py",
   "mimetype": "text/x-python",
   "name": "python",
   "nbconvert_exporter": "python",
   "pygments_lexer": "ipython3",
   "version": "3.8.8"
  }
 },
 "nbformat": 4,
 "nbformat_minor": 4
}
